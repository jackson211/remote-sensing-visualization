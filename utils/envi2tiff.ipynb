{
 "cells": [
  {
   "cell_type": "code",
   "execution_count": 2,
   "metadata": {},
   "outputs": [],
   "source": [
    "import sys\n",
    "import os\n",
    "from osgeo import gdal, gdalconst \n",
    "from osgeo.gdalconst import * "
   ]
  },
  {
   "cell_type": "code",
   "execution_count": 3,
   "metadata": {},
   "outputs": [],
   "source": [
    "def load_data(file_name, gdal_driver='GTiff'):\n",
    "    '''\n",
    "    Converts a GDAL compatable file into a numpy array and associated geodata.\n",
    "    The rray is provided so you can run with your processing - the geodata consists of the geotransform and gdal dataset object\n",
    "    If you're using an ENVI binary as input, this willr equire an associated .hdr file otherwise this will fail.\n",
    "    This needs modifying if you're dealing with multiple bands.\n",
    "\n",
    "    VARIABLES\n",
    "    file_name : file name and path of your file\n",
    "\n",
    "    RETURNS\n",
    "    image array\n",
    "    (geotransform, inDs)\n",
    "    '''\n",
    "    driver = gdal.GetDriverByName(gdal_driver) ## http://www.gdal.org/formats_list.html\n",
    "    driver.Register()\n",
    "\n",
    "    inDs = gdal.Open(file_name, GA_ReadOnly)\n",
    "\n",
    "    if inDs is None:\n",
    "        print(\"Couldn't open this file: %s\" %(file_name))\n",
    "        print('/nPerhaps you need an ENVI .hdr file? A quick way to do this is to just open the binary up in ENVI and one will be created for you.')\n",
    "        sys.exit(\"Try again!\")\n",
    "    else:\n",
    "        print(\"%s opened successfully\" %file_name)\n",
    "\n",
    "    # Extract some info form the inDs\n",
    "    geotransform = inDs.GetGeoTransform()\n",
    "\n",
    "    # Get the data as a numpy array\n",
    "    band_num = inDs.RasterCount\n",
    "\n",
    "    return (band_num, geotransform, inDs.ReadAsArray())"
   ]
  },
  {
   "cell_type": "code",
   "execution_count": 4,
   "metadata": {},
   "outputs": [
    {
     "name": "stdout",
     "output_type": "stream",
     "text": [
      "/Users/jackson/Documents/code/bokeh/data/h20160212_003501_700591.img opened successfully\n"
     ]
    }
   ],
   "source": [
    "file_name=\"/Users/jackson/Documents/code/bokeh/data/h20160212_003501_700591.img\"\n",
    "band_num, geodata, raw=load_data(file_name, gdal_driver='GTiff')"
   ]
  },
  {
   "cell_type": "code",
   "execution_count": 8,
   "metadata": {},
   "outputs": [
    {
     "data": {
      "text/plain": [
       "array([0.00968973, 0.01160109, 0.01345177, 0.01472109, 0.01519711,\n",
       "       0.01643485, 0.01932051, 0.02062666, 0.02104069, 0.02069546,\n",
       "       0.02289746, 0.02469759, 0.02595869, 0.02615318, 0.02818852,\n",
       "       0.03063611, 0.03205553, 0.03269197, 0.03586924, 0.03841676,\n",
       "       0.04094669, 0.04287211, 0.04308574, 0.04448722, 0.04673129,\n",
       "       0.04794569, 0.0493357 , 0.04829403, 0.04615661, 0.04637599,\n",
       "       0.04837763, 0.05066193, 0.04984771, 0.04886639, 0.04662393,\n",
       "       0.04606913, 0.04756432, 0.04737786, 0.04729106, 0.0478579 ,\n",
       "       0.0476267 , 0.04619136, 0.0452762 , 0.04481008, 0.04411418,\n",
       "       0.04357463, 0.04400557, 0.04397966, 0.04264493, 0.04081163,\n",
       "       0.0393351 , 0.03778346, 0.03640589, 0.03582062, 0.03520921,\n",
       "       0.03548658, 0.035819  , 0.03649337, 0.03644153, 0.03635481,\n",
       "       0.03706015, 0.03890976, 0.04248813, 0.04584561, 0.0484813 ,\n",
       "       0.04975865, 0.04742939, 0.04396667, 0.04187856, 0.04220719,\n",
       "       0.04734225, 0.05314142, 0.05892698, 0.06398033, 0.06735329,\n",
       "       0.06805351, 0.06515694, 0.06027722, 0.05781773, 0.05893595,\n",
       "       0.06413139, 0.06836586, 0.06994911, 0.0689441 , 0.06707293,\n",
       "       0.06459204, 0.0626821 , 0.06119602, 0.06056068, 0.05890542,\n",
       "       0.05437756, 0.04976749, 0.04509949, 0.04311489, 0.0419577 ,\n",
       "       0.04348563, 0.0447822 , 0.04571325, 0.04655498, 0.04733875,\n",
       "       0.04738203, 0.04724204, 0.04691003, 0.04649054, 0.04546623,\n",
       "       0.04446631, 0.04354267, 0.04216732, 0.03991822, 0.03703913,\n",
       "       0.03327256, 0.02904428, 0.02428572, 0.02037777, 0.01734999,\n",
       "       0.01507381, 0.01356949, 0.01205856, 0.01054015, 0.00900035,\n",
       "       0.00743165, 0.00592658, 0.00453747, 0.00326896, 0.00234331,\n",
       "       0.00153661, 0.00144852, 0.00136044], dtype=float32)"
      ]
     },
     "execution_count": 8,
     "metadata": {},
     "output_type": "execute_result"
    }
   ],
   "source": [
    "raw[:, 1100, 300]"
   ]
  },
  {
   "cell_type": "code",
   "execution_count": null,
   "metadata": {},
   "outputs": [],
   "source": []
  }
 ],
 "metadata": {
  "kernelspec": {
   "display_name": "Python 3",
   "language": "python",
   "name": "python3"
  },
  "language_info": {
   "codemirror_mode": {
    "name": "ipython",
    "version": 3
   },
   "file_extension": ".py",
   "mimetype": "text/x-python",
   "name": "python",
   "nbconvert_exporter": "python",
   "pygments_lexer": "ipython3",
   "version": "3.7.7"
  }
 },
 "nbformat": 4,
 "nbformat_minor": 2
}
